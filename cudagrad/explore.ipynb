{
 "cells": [
  {
   "cell_type": "code",
   "execution_count": 1,
   "metadata": {},
   "outputs": [],
   "source": [
    "from matmul import matmul_2d_numba\n",
    "import torch\n",
    "import numba\n",
    "import numpy as np\n",
    "from numba import cuda\n",
    "from numba.cuda import as_cuda_array\n",
    "import math"
   ]
  },
  {
   "cell_type": "code",
   "execution_count": 2,
   "metadata": {},
   "outputs": [
    {
     "name": "stderr",
     "output_type": "stream",
     "text": [
      "/Users/jonathansabbagh/.pyenv/virtualenvs/cudagrad/3.10.13/lib/python3.10/site-packages/numba/cuda/dispatcher.py:536: NumbaPerformanceWarning: Grid size 4 will likely result in GPU under-utilization due to low occupancy.\n",
      "  warn(NumbaPerformanceWarning(msg))\n"
     ]
    },
    {
     "ename": "TypeError",
     "evalue": "*obj* doesn't implement the cuda array interface.",
     "output_type": "error",
     "traceback": [
      "\u001b[0;31m---------------------------------------------------------------------------\u001b[0m",
      "\u001b[0;31mTypeError\u001b[0m                                 Traceback (most recent call last)",
      "Cell \u001b[0;32mIn[2], line 17\u001b[0m\n\u001b[1;32m     14\u001b[0m matrix_b \u001b[38;5;241m=\u001b[39m torch\u001b[38;5;241m.\u001b[39mrandn(\u001b[38;5;241m32\u001b[39m, \u001b[38;5;241m32\u001b[39m, dtype\u001b[38;5;241m=\u001b[39mtorch\u001b[38;5;241m.\u001b[39mfloat32)\u001b[38;5;241m.\u001b[39mcontiguous()\n\u001b[1;32m     16\u001b[0m \u001b[38;5;66;03m# Perform matrix multiplication using the Numba CUDA kernel\u001b[39;00m\n\u001b[0;32m---> 17\u001b[0m output_matrix \u001b[38;5;241m=\u001b[39m \u001b[43mmatmul_2d_numba\u001b[49m\u001b[43m(\u001b[49m\u001b[43mmatrix_a\u001b[49m\u001b[43m,\u001b[49m\u001b[43m \u001b[49m\u001b[43mmatrix_b\u001b[49m\u001b[43m)\u001b[49m\n\u001b[1;32m     19\u001b[0m \u001b[38;5;28mprint\u001b[39m(\u001b[38;5;124m\"\u001b[39m\u001b[38;5;124mMatrix A:\u001b[39m\u001b[38;5;124m\"\u001b[39m)\n\u001b[1;32m     20\u001b[0m \u001b[38;5;28mprint\u001b[39m(matrix_a)\n",
      "File \u001b[0;32m~/src/github.com/cudagrad/src/matmul.py:69\u001b[0m, in \u001b[0;36mmatmul_2d_numba\u001b[0;34m(matrix_a, matrix_b, tile_width)\u001b[0m\n\u001b[1;32m     63\u001b[0m threads_per_block \u001b[38;5;241m=\u001b[39m tile_width, tile_width\n\u001b[1;32m     64\u001b[0m blocks_per_grid \u001b[38;5;241m=\u001b[39m (\n\u001b[1;32m     65\u001b[0m     cdiv(height_b, threads_per_block[\u001b[38;5;241m0\u001b[39m]),\n\u001b[1;32m     66\u001b[0m     cdiv(height_a, threads_per_block[\u001b[38;5;241m1\u001b[39m]),\n\u001b[1;32m     67\u001b[0m )\n\u001b[1;32m     68\u001b[0m matmul_k_numba[blocks_per_grid, threads_per_block, \u001b[38;5;241m0\u001b[39m, dynamic_shared_memory_size](\n\u001b[0;32m---> 69\u001b[0m     \u001b[43mas_cuda_array\u001b[49m\u001b[43m(\u001b[49m\u001b[43mmatrix_a\u001b[49m\u001b[43m)\u001b[49m, as_cuda_array(matrix_b), as_cuda_array(output_matrix), tile_width\n\u001b[1;32m     70\u001b[0m )\n\u001b[1;32m     71\u001b[0m \u001b[38;5;28;01mreturn\u001b[39;00m output_matrix\n",
      "File \u001b[0;32m~/.pyenv/virtualenvs/cudagrad/3.10.13/lib/python3.10/site-packages/numba/cuda/api.py:74\u001b[0m, in \u001b[0;36mas_cuda_array\u001b[0;34m(obj, sync)\u001b[0m\n\u001b[1;32m     64\u001b[0m \u001b[38;5;250m\u001b[39m\u001b[38;5;124;03m\"\"\"Create a DeviceNDArray from any object that implements\u001b[39;00m\n\u001b[1;32m     65\u001b[0m \u001b[38;5;124;03mthe :ref:`cuda array interface <cuda-array-interface>`.\u001b[39;00m\n\u001b[1;32m     66\u001b[0m \n\u001b[0;32m   (...)\u001b[0m\n\u001b[1;32m     71\u001b[0m \u001b[38;5;124;03msynchronized.\u001b[39;00m\n\u001b[1;32m     72\u001b[0m \u001b[38;5;124;03m\"\"\"\u001b[39;00m\n\u001b[1;32m     73\u001b[0m \u001b[38;5;28;01mif\u001b[39;00m \u001b[38;5;129;01mnot\u001b[39;00m is_cuda_array(obj):\n\u001b[0;32m---> 74\u001b[0m     \u001b[38;5;28;01mraise\u001b[39;00m \u001b[38;5;167;01mTypeError\u001b[39;00m(\u001b[38;5;124m\"\u001b[39m\u001b[38;5;124m*obj* doesn\u001b[39m\u001b[38;5;124m'\u001b[39m\u001b[38;5;124mt implement the cuda array interface.\u001b[39m\u001b[38;5;124m\"\u001b[39m)\n\u001b[1;32m     75\u001b[0m \u001b[38;5;28;01melse\u001b[39;00m:\n\u001b[1;32m     76\u001b[0m     \u001b[38;5;28;01mreturn\u001b[39;00m from_cuda_array_interface(obj\u001b[38;5;241m.\u001b[39m__cuda_array_interface__,\n\u001b[1;32m     77\u001b[0m                                      owner\u001b[38;5;241m=\u001b[39mobj, sync\u001b[38;5;241m=\u001b[39msync)\n",
      "\u001b[0;31mTypeError\u001b[0m: *obj* doesn't implement the cuda array interface."
     ]
    }
   ],
   "source": [
    "# Using Numba CUDA Simulator\n",
    "\n",
    "# Numba provides a CUDA simulator that allows you to run and debug CUDA Python code on a CPU.\n",
    "# This can be useful for development and debugging when you don't have access to a GPU.\n",
    "\n",
    "# To use the CUDA simulator, you need to set the environment variable NUMBA_ENABLE_CUDASIM to 1.\n",
    "import os\n",
    "\n",
    "os.environ[\"NUMBA_ENABLE_CUDASIM\"] = \"1\"\n",
    "\n",
    "# Now you can run your CUDA code as if it were running on a GPU.\n",
    "# Let's define some matrices and use the matmul_2d_numba function to perform matrix multiplication.\n",
    "\n",
    "matrix_a = torch.randn(32, 32, dtype=torch.float32).contiguous()\n",
    "matrix_b = torch.randn(32, 32, dtype=torch.float32).contiguous()\n",
    "\n",
    "# Perform matrix multiplication using the Numba CUDA kernel\n",
    "output_matrix = matmul_2d_numba(matrix_a, matrix_b)\n",
    "\n",
    "print(\"Matrix A:\")\n",
    "print(matrix_a)\n",
    "print(\"Matrix B:\")\n",
    "print(matrix_b)\n",
    "print(\"Output Matrix:\")\n",
    "print(output_matrix)"
   ]
  },
  {
   "cell_type": "code",
   "execution_count": null,
   "metadata": {},
   "outputs": [],
   "source": []
  }
 ],
 "metadata": {
  "kernelspec": {
   "display_name": "3.10.13",
   "language": "python",
   "name": "python3"
  },
  "language_info": {
   "codemirror_mode": {
    "name": "ipython",
    "version": 3
   },
   "file_extension": ".py",
   "mimetype": "text/x-python",
   "name": "python",
   "nbconvert_exporter": "python",
   "pygments_lexer": "ipython3",
   "version": "3.10.13"
  }
 },
 "nbformat": 4,
 "nbformat_minor": 2
}
